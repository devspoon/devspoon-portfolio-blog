{
 "cells": [
  {
   "cell_type": "code",
   "execution_count": 1,
   "id": "96a4245a",
   "metadata": {},
   "outputs": [],
   "source": [
    "import os"
   ]
  },
  {
   "cell_type": "code",
   "execution_count": 2,
   "id": "b1ddd637",
   "metadata": {},
   "outputs": [],
   "source": [
    "os.environ[\"DJANGO_ALLOW_ASYNC_UNSAFE\"] = \"true\""
   ]
  },
  {
   "cell_type": "code",
   "execution_count": 3,
   "id": "de6bb368",
   "metadata": {},
   "outputs": [],
   "source": [
    "from datetime import timedelta\n",
    "from django.utils import timezone"
   ]
  },
  {
   "cell_type": "code",
   "execution_count": 4,
   "id": "cec94228",
   "metadata": {},
   "outputs": [],
   "source": [
    "from django.db.models import Q,F"
   ]
  },
  {
   "cell_type": "code",
   "execution_count": 5,
   "id": "fa914590",
   "metadata": {},
   "outputs": [],
   "source": [
    "from users.models import User"
   ]
  },
  {
   "cell_type": "code",
   "execution_count": 6,
   "id": "b0cc4afc",
   "metadata": {},
   "outputs": [],
   "source": [
    "# SELECT *\n",
    "# FROM django_portfolio_blog.abstractuser_user\n",
    "# WHERE created_at >= current_date - interval '3 days'and verified != True;"
   ]
  },
  {
   "cell_type": "code",
   "execution_count": 7,
   "id": "fd308af1",
   "metadata": {},
   "outputs": [],
   "source": [
    "three_days_ago = timezone.now() - timezone.timedelta(days=3)"
   ]
  },
  {
   "cell_type": "code",
   "execution_count": 8,
   "id": "ca47da10",
   "metadata": {},
   "outputs": [
    {
     "data": {
      "text/plain": [
       "datetime.datetime(2023, 10, 28, 14, 25, 29, 363473, tzinfo=datetime.timezone.utc)"
      ]
     },
     "execution_count": 8,
     "metadata": {},
     "output_type": "execute_result"
    }
   ],
   "source": [
    "three_days_ago"
   ]
  },
  {
   "cell_type": "code",
   "execution_count": 9,
   "id": "7e83af15",
   "metadata": {},
   "outputs": [],
   "source": [
    "result=User.objects.filter(created_at__lte=three_days_ago, verified=False)"
   ]
  },
  {
   "cell_type": "code",
   "execution_count": 10,
   "id": "5dedf31b",
   "metadata": {},
   "outputs": [],
   "source": [
    "cnt=result.count()"
   ]
  },
  {
   "cell_type": "code",
   "execution_count": 11,
   "id": "4b353784",
   "metadata": {},
   "outputs": [
    {
     "data": {
      "text/plain": [
       "(168, {'users.User': 168})"
      ]
     },
     "execution_count": 11,
     "metadata": {},
     "output_type": "execute_result"
    }
   ],
   "source": [
    "result.delete()"
   ]
  },
  {
   "cell_type": "code",
   "execution_count": 12,
   "id": "a6d5793a",
   "metadata": {},
   "outputs": [
    {
     "data": {
      "text/plain": [
       "168"
      ]
     },
     "execution_count": 12,
     "metadata": {},
     "output_type": "execute_result"
    }
   ],
   "source": [
    "cnt"
   ]
  }
 ],
 "metadata": {
  "kernelspec": {
   "display_name": "Django Shell-Plus",
   "language": "python",
   "name": "django_extensions"
  },
  "language_info": {
   "codemirror_mode": {
    "name": "ipython",
    "version": 3
   },
   "file_extension": ".py",
   "mimetype": "text/x-python",
   "name": "python",
   "nbconvert_exporter": "python",
   "pygments_lexer": "ipython3",
   "version": "3.11.4"
  }
 },
 "nbformat": 4,
 "nbformat_minor": 5
}
