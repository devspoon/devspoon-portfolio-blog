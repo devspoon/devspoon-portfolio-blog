{
 "cells": [
  {
   "cell_type": "code",
   "execution_count": 1,
   "id": "96a4245a",
   "metadata": {},
   "outputs": [],
   "source": [
    "import os"
   ]
  },
  {
   "cell_type": "code",
   "execution_count": 2,
   "id": "b1ddd637",
   "metadata": {},
   "outputs": [],
   "source": [
    "os.environ[\"DJANGO_ALLOW_ASYNC_UNSAFE\"] = \"true\""
   ]
  },
  {
   "cell_type": "code",
   "execution_count": 4,
   "id": "de6bb368",
   "metadata": {},
   "outputs": [],
   "source": [
    "from datetime import timedelta\n",
    "from django.utils import timezone"
   ]
  },
  {
   "cell_type": "code",
   "execution_count": 3,
   "id": "fa914590",
   "metadata": {},
   "outputs": [],
   "source": [
    "from users.models import User"
   ]
  },
  {
   "cell_type": "code",
   "execution_count": 20,
   "id": "2a5999c6",
   "metadata": {},
   "outputs": [],
   "source": [
    "# https://pypi.org/project/email-validator/"
   ]
  },
  {
   "cell_type": "code",
   "execution_count": 1,
   "id": "b0cc4afc",
   "metadata": {},
   "outputs": [
    {
     "name": "stderr",
     "output_type": "stream",
     "text": [
      "\n"
     ]
    },
    {
     "name": "stdout",
     "output_type": "stream",
     "text": [
      "Collecting email-validatorNote: you may need to restart the kernel to use updated packages."
     ]
    },
    {
     "name": "stderr",
     "output_type": "stream",
     "text": [
      "[notice] A new release of pip is available: 23.1.2 -> 23.3.1"
     ]
    },
    {
     "name": "stdout",
     "output_type": "stream",
     "text": [
      "\n",
      "\n"
     ]
    },
    {
     "name": "stderr",
     "output_type": "stream",
     "text": [
      "\n",
      "[notice] To update, run: python.exe -m pip install --upgrade pip"
     ]
    },
    {
     "name": "stdout",
     "output_type": "stream",
     "text": [
      "  Downloading email_validator-2.1.0.post1-py3-none-any.whl (32 kB)\n"
     ]
    },
    {
     "name": "stderr",
     "output_type": "stream",
     "text": [
      "\n"
     ]
    },
    {
     "name": "stdout",
     "output_type": "stream",
     "text": [
      "Collecting dnspython>=2.0.0 (from email-validator)\n",
      "  Downloading dnspython-2.4.2-py3-none-any.whl (300 kB)\n",
      "     -------------------------------------- 300.4/300.4 kB 9.4 MB/s eta 0:00:00\n",
      "Requirement already satisfied: idna>=2.0.0 in f:\\project\\django\\github\\project_env\\portfolio_env\\lib\\site-packages (from email-validator) (3.3)\n",
      "Installing collected packages: dnspython, email-validator\n",
      "Successfully installed dnspython-2.4.2 email-validator-2.1.0.post1\n"
     ]
    }
   ],
   "source": [
    "pip install email-validator"
   ]
  },
  {
   "cell_type": "code",
   "execution_count": 16,
   "id": "c8a56002",
   "metadata": {},
   "outputs": [],
   "source": [
    "from email_validator import validate_email, EmailNotValidError, caching_resolver"
   ]
  },
  {
   "cell_type": "code",
   "execution_count": 27,
   "id": "67755e4b",
   "metadata": {},
   "outputs": [],
   "source": [
    "resolver = caching_resolver(timeout=10)\n",
    "\n",
    "def email_test(email:str) -> [str, bool]:\n",
    "    try:\n",
    "\n",
    "      # Check that the email address is valid. Turn on check_deliverability\n",
    "      # for first-time validations like on account creation pages (but not\n",
    "      # login pages).\n",
    "      emailinfo = validate_email(email, check_deliverability=True, dns_resolver=resolver)\n",
    "      print(\"emailinfo : \",emailinfo)\n",
    "      # After this point, use only the normalized form of the email address,\n",
    "      # especially before going to a database query.\n",
    "      return emailinfo.normalized, True\n",
    "\n",
    "    except EmailNotValidError as e:\n",
    "\n",
    "      # The exception message is human-readable explanation of why it's\n",
    "      # not a valid (or deliverable) email address.\n",
    "      print(str(e))\n",
    "      return \"\", False"
   ]
  },
  {
   "cell_type": "code",
   "execution_count": 32,
   "id": "3c4b4039",
   "metadata": {},
   "outputs": [
    {
     "name": "stdout",
     "output_type": "stream",
     "text": [
      "emailinfo :  <ValidatedEmail test24@test.com>\n"
     ]
    }
   ],
   "source": [
    "_, rt = email_test(email = \"test24@test.com\")"
   ]
  },
  {
   "cell_type": "code",
   "execution_count": 31,
   "id": "e40a9595",
   "metadata": {},
   "outputs": [
    {
     "name": "stdout",
     "output_type": "stream",
     "text": [
      "rt\n"
     ]
    }
   ],
   "source": [
    "if not rt :\n",
    "    print(\"rt\")"
   ]
  },
  {
   "cell_type": "code",
   "execution_count": 36,
   "id": "3278b69f",
   "metadata": {},
   "outputs": [
    {
     "name": "stdout",
     "output_type": "stream",
     "text": [
      "The domain name erasdfasdfw.asdfcom does not exist.\n"
     ]
    }
   ],
   "source": [
    "_, rt = email_test(email = \"tesasdasdfadsfsdt24@erasdfasdfw.asdfcom\")"
   ]
  },
  {
   "cell_type": "code",
   "execution_count": null,
   "id": "240203b7",
   "metadata": {},
   "outputs": [],
   "source": []
  }
 ],
 "metadata": {
  "kernelspec": {
   "display_name": "Django Shell-Plus",
   "language": "python",
   "name": "django_extensions"
  },
  "language_info": {
   "codemirror_mode": {
    "name": "ipython",
    "version": 3
   },
   "file_extension": ".py",
   "mimetype": "text/x-python",
   "name": "python",
   "nbconvert_exporter": "python",
   "pygments_lexer": "ipython3",
   "version": "3.11.4"
  }
 },
 "nbformat": 4,
 "nbformat_minor": 5
}
