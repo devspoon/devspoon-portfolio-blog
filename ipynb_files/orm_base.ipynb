{
 "cells": [
  {
   "cell_type": "code",
   "execution_count": 1,
   "id": "96a4245a",
   "metadata": {},
   "outputs": [],
   "source": [
    "import os"
   ]
  },
  {
   "cell_type": "code",
   "execution_count": 2,
   "id": "b1ddd637",
   "metadata": {},
   "outputs": [],
   "source": [
    "os.environ[\"DJANGO_ALLOW_ASYNC_UNSAFE\"] = \"true\""
   ]
  },
  {
   "cell_type": "code",
   "execution_count": 4,
   "id": "de6bb368",
   "metadata": {},
   "outputs": [],
   "source": [
    "from datetime import timedelta\n",
    "from django.utils import timezone"
   ]
  },
  {
   "cell_type": "code",
   "execution_count": 5,
   "id": "c42f9b34",
   "metadata": {},
   "outputs": [],
   "source": [
    "from django.db.models import Q,F"
   ]
  },
  {
   "cell_type": "code",
   "execution_count": 3,
   "id": "fa914590",
   "metadata": {},
   "outputs": [],
   "source": [
    "from users.models import User"
   ]
  },
  {
   "cell_type": "code",
   "execution_count": null,
   "id": "b0cc4afc",
   "metadata": {},
   "outputs": [],
   "source": []
  }
 ],
 "metadata": {
  "kernelspec": {
   "display_name": "Django Shell-Plus",
   "language": "python",
   "name": "django_extensions"
  },
  "language_info": {
   "codemirror_mode": {
    "name": "ipython",
    "version": 3
   },
   "file_extension": ".py",
   "mimetype": "text/x-python",
   "name": "python",
   "nbconvert_exporter": "python",
   "pygments_lexer": "ipython3",
   "version": "3.11.4"
  }
 },
 "nbformat": 4,
 "nbformat_minor": 5
}
