{
 "cells": [
  {
   "cell_type": "code",
   "execution_count": 1,
   "id": "8464b27c",
   "metadata": {},
   "outputs": [],
   "source": [
    "import os"
   ]
  },
  {
   "cell_type": "code",
   "execution_count": 2,
   "id": "f929242e",
   "metadata": {},
   "outputs": [],
   "source": [
    "os.environ[\"DJANGO_ALLOW_ASYNC_UNSAFE\"] = \"true\""
   ]
  },
  {
   "cell_type": "code",
   "execution_count": 3,
   "id": "3b31b781",
   "metadata": {},
   "outputs": [],
   "source": [
    "from users.models import User"
   ]
  },
  {
   "cell_type": "code",
   "execution_count": 4,
   "id": "a8992121",
   "metadata": {},
   "outputs": [],
   "source": [
    "from datetime import timedelta\n",
    "from django.utils import timezone\n"
   ]
  },
  {
   "cell_type": "code",
   "execution_count": 5,
   "id": "786c0aac",
   "metadata": {},
   "outputs": [
    {
     "data": {
      "text/plain": [
       "<UserCustomQuerySet [<User: admin - >, <User: redhohoho - >]>"
      ]
     },
     "execution_count": 5,
     "metadata": {},
     "output_type": "execute_result"
    }
   ],
   "source": [
    "User.user_objects.users()"
   ]
  },
  {
   "cell_type": "code",
   "execution_count": 6,
   "id": "1955413f",
   "metadata": {},
   "outputs": [
    {
     "data": {
      "text/plain": [
       "<QuerySet [<User: admin - >, <User: redhohoho - >]>"
      ]
     },
     "execution_count": 6,
     "metadata": {},
     "output_type": "execute_result"
    }
   ],
   "source": [
    "User.objects.all()"
   ]
  },
  {
   "cell_type": "code",
   "execution_count": null,
   "id": "3ecaa9ad",
   "metadata": {},
   "outputs": [],
   "source": []
  }
 ],
 "metadata": {
  "kernelspec": {
   "display_name": "Django Shell-Plus",
   "language": "python",
   "name": "django_extensions"
  },
  "language_info": {
   "codemirror_mode": {
    "name": "ipython",
    "version": 3
   },
   "file_extension": ".py",
   "mimetype": "text/x-python",
   "name": "python",
   "nbconvert_exporter": "python",
   "pygments_lexer": "ipython3",
   "version": "3.10.0"
  }
 },
 "nbformat": 4,
 "nbformat_minor": 5
}
